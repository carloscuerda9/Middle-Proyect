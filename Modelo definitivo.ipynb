{
 "cells": [
  {
   "cell_type": "markdown",
   "id": "e549fb64-0b34-42ad-8833-57081decd4c6",
   "metadata": {},
   "source": [
    "<h2 style=\"color: #0000FF;\">CALCULADORA DE PRECIOS</h2>"
   ]
  },
  {
   "cell_type": "code",
   "execution_count": 1,
   "id": "e0227b13-1c93-4e6c-8b17-7f06d85b2b6d",
   "metadata": {
    "jp-MarkdownHeadingCollapsed": true,
    "tags": []
   },
   "outputs": [],
   "source": [
    "%matplotlib inline\n",
    "\n",
    "# 📚 Basic Libraries\n",
    "import numpy as np # operaciones matemáticas (numerical python)\n",
    "import pandas as pd # manipulación de datos\n",
    "import warnings # nobody likes warnings\n",
    "\n",
    "# 📊 Visualizations\n",
    "import matplotlib.pyplot as plt\n",
    "import seaborn as sns\n",
    "\n",
    "# 🤖 Machine Learning\n",
    "from sklearn.model_selection import train_test_split\n",
    "from sklearn.linear_model import LogisticRegression \n",
    "from sklearn.linear_model import LinearRegression\n",
    "from sklearn.metrics import r2_score, mean_squared_error, mean_absolute_error\n",
    "from sklearn.metrics import roc_curve, confusion_matrix, ConfusionMatrixDisplay\n",
    "from sklearn.metrics import classification_report\n",
    "from sklearn.linear_model import Ridge\n",
    "\n",
    "import http.client\n",
    "import json\n",
    "from bs4 import BeautifulSoup\n",
    "import pandas as pd\n",
    "\n",
    "import plotly.express as px\n",
    "\n",
    "import pandas as pd\n",
    "import numpy as np\n",
    "from sklearn.model_selection import train_test_split\n",
    "from sklearn.linear_model import Ridge\n",
    "from sklearn.preprocessing import PolynomialFeatures, MinMaxScaler\n",
    "from sklearn.model_selection import GridSearchCV\n",
    "from sklearn.metrics import r2_score, mean_squared_error, mean_absolute_error"
   ]
  },
  {
   "cell_type": "code",
   "execution_count": 2,
   "id": "8565d5ba-d356-4ca0-b5b1-7f4af2b394a0",
   "metadata": {
    "tags": []
   },
   "outputs": [],
   "source": [
    "data = pd.read_csv('datos_coches_limpios.csv')"
   ]
  },
  {
   "cell_type": "code",
   "execution_count": 3,
   "id": "8062f13a-a836-4266-8f97-381a760fffb1",
   "metadata": {
    "tags": []
   },
   "outputs": [],
   "source": [
    "numeric_data = data.select_dtypes(include='number')"
   ]
  },
  {
   "cell_type": "code",
   "execution_count": 4,
   "id": "5e5c832c-f40c-4acc-9721-1584b68160f4",
   "metadata": {
    "tags": []
   },
   "outputs": [
    {
     "data": {
      "text/plain": [
       "Index(['year', 'condition', 'odometer', 'market_price', 'car age', 'price'], dtype='object')"
      ]
     },
     "execution_count": 4,
     "metadata": {},
     "output_type": "execute_result"
    }
   ],
   "source": [
    "numeric_data.columns"
   ]
  },
  {
   "cell_type": "markdown",
   "id": "6f496118-71a5-45cc-bf31-71fb119d2861",
   "metadata": {
    "tags": []
   },
   "source": [
    "<h2 style=\"color: #0000FF;\">¿QUÉ ES UNA CALCULADORA DE PRECIOS?</h2>"
   ]
  },
  {
   "cell_type": "markdown",
   "id": "c70b4361-b167-43cc-9cfd-7e4a6ec678ed",
   "metadata": {},
   "source": [
    "Como hemos podido ver el modelo que mejor predice los precios es el modelo RIDGE y aun que no hay una mejoría notable en la precisión de esta predicción cuando escalamos los datos, la desviación si que disminuye.\n",
    "\n",
    "Escalamos los datos con MinMaxScaler\n",
    "\n",
    "Ademas mejoramos también el modelo a través de los hiperparametros \n",
    "\n",
    "Por último añadimos intereacciones polinómicas entre las características existentes para encontrar relaciones no lineales.\n",
    "\n"
   ]
  },
  {
   "cell_type": "code",
   "execution_count": 5,
   "id": "7a66e621-16bb-4e0b-949c-b2dde728d6cf",
   "metadata": {
    "tags": []
   },
   "outputs": [],
   "source": [
    "# Separar características (X) y etiquetas (y)\n",
    "X = numeric_data.drop('price', axis=1)  \n",
    "y = numeric_data['price']\n"
   ]
  },
  {
   "cell_type": "code",
   "execution_count": 6,
   "id": "51184981-fe33-424f-9a0e-1b08df09d36d",
   "metadata": {
    "tags": []
   },
   "outputs": [],
   "source": [
    "# Dividir los datos en conjunto de entrenamiento y prueba\n",
    "X_train, X_test, y_train, y_test = train_test_split(X, y, test_size=0.2, random_state=42)"
   ]
  },
  {
   "cell_type": "code",
   "execution_count": 7,
   "id": "d632a3ef-3edd-4018-8b33-65eda04dde3a",
   "metadata": {
    "tags": []
   },
   "outputs": [],
   "source": [
    "# Normalizar características\n",
    "scaler = MinMaxScaler()\n",
    "X_train_scaled = scaler.fit_transform(X_train)\n",
    "X_test_scaled = scaler.transform(X_test)\n"
   ]
  },
  {
   "cell_type": "code",
   "execution_count": 8,
   "id": "c0e6d0ad-2a71-4e1a-a06d-746227ec9188",
   "metadata": {
    "tags": []
   },
   "outputs": [
    {
     "data": {
      "text/html": [
       "<style>#sk-container-id-1 {color: black;}#sk-container-id-1 pre{padding: 0;}#sk-container-id-1 div.sk-toggleable {background-color: white;}#sk-container-id-1 label.sk-toggleable__label {cursor: pointer;display: block;width: 100%;margin-bottom: 0;padding: 0.3em;box-sizing: border-box;text-align: center;}#sk-container-id-1 label.sk-toggleable__label-arrow:before {content: \"▸\";float: left;margin-right: 0.25em;color: #696969;}#sk-container-id-1 label.sk-toggleable__label-arrow:hover:before {color: black;}#sk-container-id-1 div.sk-estimator:hover label.sk-toggleable__label-arrow:before {color: black;}#sk-container-id-1 div.sk-toggleable__content {max-height: 0;max-width: 0;overflow: hidden;text-align: left;background-color: #f0f8ff;}#sk-container-id-1 div.sk-toggleable__content pre {margin: 0.2em;color: black;border-radius: 0.25em;background-color: #f0f8ff;}#sk-container-id-1 input.sk-toggleable__control:checked~div.sk-toggleable__content {max-height: 200px;max-width: 100%;overflow: auto;}#sk-container-id-1 input.sk-toggleable__control:checked~label.sk-toggleable__label-arrow:before {content: \"▾\";}#sk-container-id-1 div.sk-estimator input.sk-toggleable__control:checked~label.sk-toggleable__label {background-color: #d4ebff;}#sk-container-id-1 div.sk-label input.sk-toggleable__control:checked~label.sk-toggleable__label {background-color: #d4ebff;}#sk-container-id-1 input.sk-hidden--visually {border: 0;clip: rect(1px 1px 1px 1px);clip: rect(1px, 1px, 1px, 1px);height: 1px;margin: -1px;overflow: hidden;padding: 0;position: absolute;width: 1px;}#sk-container-id-1 div.sk-estimator {font-family: monospace;background-color: #f0f8ff;border: 1px dotted black;border-radius: 0.25em;box-sizing: border-box;margin-bottom: 0.5em;}#sk-container-id-1 div.sk-estimator:hover {background-color: #d4ebff;}#sk-container-id-1 div.sk-parallel-item::after {content: \"\";width: 100%;border-bottom: 1px solid gray;flex-grow: 1;}#sk-container-id-1 div.sk-label:hover label.sk-toggleable__label {background-color: #d4ebff;}#sk-container-id-1 div.sk-serial::before {content: \"\";position: absolute;border-left: 1px solid gray;box-sizing: border-box;top: 0;bottom: 0;left: 50%;z-index: 0;}#sk-container-id-1 div.sk-serial {display: flex;flex-direction: column;align-items: center;background-color: white;padding-right: 0.2em;padding-left: 0.2em;position: relative;}#sk-container-id-1 div.sk-item {position: relative;z-index: 1;}#sk-container-id-1 div.sk-parallel {display: flex;align-items: stretch;justify-content: center;background-color: white;position: relative;}#sk-container-id-1 div.sk-item::before, #sk-container-id-1 div.sk-parallel-item::before {content: \"\";position: absolute;border-left: 1px solid gray;box-sizing: border-box;top: 0;bottom: 0;left: 50%;z-index: -1;}#sk-container-id-1 div.sk-parallel-item {display: flex;flex-direction: column;z-index: 1;position: relative;background-color: white;}#sk-container-id-1 div.sk-parallel-item:first-child::after {align-self: flex-end;width: 50%;}#sk-container-id-1 div.sk-parallel-item:last-child::after {align-self: flex-start;width: 50%;}#sk-container-id-1 div.sk-parallel-item:only-child::after {width: 0;}#sk-container-id-1 div.sk-dashed-wrapped {border: 1px dashed gray;margin: 0 0.4em 0.5em 0.4em;box-sizing: border-box;padding-bottom: 0.4em;background-color: white;}#sk-container-id-1 div.sk-label label {font-family: monospace;font-weight: bold;display: inline-block;line-height: 1.2em;}#sk-container-id-1 div.sk-label-container {text-align: center;}#sk-container-id-1 div.sk-container {/* jupyter's `normalize.less` sets `[hidden] { display: none; }` but bootstrap.min.css set `[hidden] { display: none !important; }` so we also need the `!important` here to be able to override the default hidden behavior on the sphinx rendered scikit-learn.org. See: https://github.com/scikit-learn/scikit-learn/issues/21755 */display: inline-block !important;position: relative;}#sk-container-id-1 div.sk-text-repr-fallback {display: none;}</style><div id=\"sk-container-id-1\" class=\"sk-top-container\"><div class=\"sk-text-repr-fallback\"><pre>GridSearchCV(cv=5, estimator=Ridge(),\n",
       "             param_grid={&#x27;alpha&#x27;: [0.001, 0.01, 0.1, 1, 10, 100]})</pre><b>In a Jupyter environment, please rerun this cell to show the HTML representation or trust the notebook. <br />On GitHub, the HTML representation is unable to render, please try loading this page with nbviewer.org.</b></div><div class=\"sk-container\" hidden><div class=\"sk-item sk-dashed-wrapped\"><div class=\"sk-label-container\"><div class=\"sk-label sk-toggleable\"><input class=\"sk-toggleable__control sk-hidden--visually\" id=\"sk-estimator-id-1\" type=\"checkbox\" ><label for=\"sk-estimator-id-1\" class=\"sk-toggleable__label sk-toggleable__label-arrow\">GridSearchCV</label><div class=\"sk-toggleable__content\"><pre>GridSearchCV(cv=5, estimator=Ridge(),\n",
       "             param_grid={&#x27;alpha&#x27;: [0.001, 0.01, 0.1, 1, 10, 100]})</pre></div></div></div><div class=\"sk-parallel\"><div class=\"sk-parallel-item\"><div class=\"sk-item\"><div class=\"sk-label-container\"><div class=\"sk-label sk-toggleable\"><input class=\"sk-toggleable__control sk-hidden--visually\" id=\"sk-estimator-id-2\" type=\"checkbox\" ><label for=\"sk-estimator-id-2\" class=\"sk-toggleable__label sk-toggleable__label-arrow\">estimator: Ridge</label><div class=\"sk-toggleable__content\"><pre>Ridge()</pre></div></div></div><div class=\"sk-serial\"><div class=\"sk-item\"><div class=\"sk-estimator sk-toggleable\"><input class=\"sk-toggleable__control sk-hidden--visually\" id=\"sk-estimator-id-3\" type=\"checkbox\" ><label for=\"sk-estimator-id-3\" class=\"sk-toggleable__label sk-toggleable__label-arrow\">Ridge</label><div class=\"sk-toggleable__content\"><pre>Ridge()</pre></div></div></div></div></div></div></div></div></div></div>"
      ],
      "text/plain": [
       "GridSearchCV(cv=5, estimator=Ridge(),\n",
       "             param_grid={'alpha': [0.001, 0.01, 0.1, 1, 10, 100]})"
      ]
     },
     "execution_count": 8,
     "metadata": {},
     "output_type": "execute_result"
    }
   ],
   "source": [
    "# Entrenar el modelo Ridge y seleccionar los mejores hiperparámetros\n",
    "param_grid = {'alpha': [0.001, 0.01, 0.1, 1, 10, 100]}\n",
    "grid_search = GridSearchCV(Ridge(), param_grid, cv=5)\n",
    "grid_search.fit(X_train_scaled, y_train)\n"
   ]
  },
  {
   "cell_type": "code",
   "execution_count": 9,
   "id": "2f28c1a6-9670-4913-8926-95cf27f3806b",
   "metadata": {
    "tags": []
   },
   "outputs": [],
   "source": [
    "# Obtener los mejores hiperparámetros\n",
    "best_alpha = grid_search.best_params_['alpha']"
   ]
  },
  {
   "cell_type": "code",
   "execution_count": 10,
   "id": "df302743-5d49-4314-b975-a18c757beb67",
   "metadata": {
    "tags": []
   },
   "outputs": [],
   "source": [
    "# Funciones polinómicas\n",
    "poly = PolynomialFeatures(degree=2)\n",
    "X_train_poly = poly.fit_transform(X_train_scaled)\n",
    "X_test_poly = poly.transform(X_test_scaled)\n",
    "\n"
   ]
  },
  {
   "cell_type": "code",
   "execution_count": 11,
   "id": "1ab2c605-b162-4c30-b451-98b6f22e0e3f",
   "metadata": {
    "tags": []
   },
   "outputs": [
    {
     "data": {
      "text/html": [
       "<style>#sk-container-id-2 {color: black;}#sk-container-id-2 pre{padding: 0;}#sk-container-id-2 div.sk-toggleable {background-color: white;}#sk-container-id-2 label.sk-toggleable__label {cursor: pointer;display: block;width: 100%;margin-bottom: 0;padding: 0.3em;box-sizing: border-box;text-align: center;}#sk-container-id-2 label.sk-toggleable__label-arrow:before {content: \"▸\";float: left;margin-right: 0.25em;color: #696969;}#sk-container-id-2 label.sk-toggleable__label-arrow:hover:before {color: black;}#sk-container-id-2 div.sk-estimator:hover label.sk-toggleable__label-arrow:before {color: black;}#sk-container-id-2 div.sk-toggleable__content {max-height: 0;max-width: 0;overflow: hidden;text-align: left;background-color: #f0f8ff;}#sk-container-id-2 div.sk-toggleable__content pre {margin: 0.2em;color: black;border-radius: 0.25em;background-color: #f0f8ff;}#sk-container-id-2 input.sk-toggleable__control:checked~div.sk-toggleable__content {max-height: 200px;max-width: 100%;overflow: auto;}#sk-container-id-2 input.sk-toggleable__control:checked~label.sk-toggleable__label-arrow:before {content: \"▾\";}#sk-container-id-2 div.sk-estimator input.sk-toggleable__control:checked~label.sk-toggleable__label {background-color: #d4ebff;}#sk-container-id-2 div.sk-label input.sk-toggleable__control:checked~label.sk-toggleable__label {background-color: #d4ebff;}#sk-container-id-2 input.sk-hidden--visually {border: 0;clip: rect(1px 1px 1px 1px);clip: rect(1px, 1px, 1px, 1px);height: 1px;margin: -1px;overflow: hidden;padding: 0;position: absolute;width: 1px;}#sk-container-id-2 div.sk-estimator {font-family: monospace;background-color: #f0f8ff;border: 1px dotted black;border-radius: 0.25em;box-sizing: border-box;margin-bottom: 0.5em;}#sk-container-id-2 div.sk-estimator:hover {background-color: #d4ebff;}#sk-container-id-2 div.sk-parallel-item::after {content: \"\";width: 100%;border-bottom: 1px solid gray;flex-grow: 1;}#sk-container-id-2 div.sk-label:hover label.sk-toggleable__label {background-color: #d4ebff;}#sk-container-id-2 div.sk-serial::before {content: \"\";position: absolute;border-left: 1px solid gray;box-sizing: border-box;top: 0;bottom: 0;left: 50%;z-index: 0;}#sk-container-id-2 div.sk-serial {display: flex;flex-direction: column;align-items: center;background-color: white;padding-right: 0.2em;padding-left: 0.2em;position: relative;}#sk-container-id-2 div.sk-item {position: relative;z-index: 1;}#sk-container-id-2 div.sk-parallel {display: flex;align-items: stretch;justify-content: center;background-color: white;position: relative;}#sk-container-id-2 div.sk-item::before, #sk-container-id-2 div.sk-parallel-item::before {content: \"\";position: absolute;border-left: 1px solid gray;box-sizing: border-box;top: 0;bottom: 0;left: 50%;z-index: -1;}#sk-container-id-2 div.sk-parallel-item {display: flex;flex-direction: column;z-index: 1;position: relative;background-color: white;}#sk-container-id-2 div.sk-parallel-item:first-child::after {align-self: flex-end;width: 50%;}#sk-container-id-2 div.sk-parallel-item:last-child::after {align-self: flex-start;width: 50%;}#sk-container-id-2 div.sk-parallel-item:only-child::after {width: 0;}#sk-container-id-2 div.sk-dashed-wrapped {border: 1px dashed gray;margin: 0 0.4em 0.5em 0.4em;box-sizing: border-box;padding-bottom: 0.4em;background-color: white;}#sk-container-id-2 div.sk-label label {font-family: monospace;font-weight: bold;display: inline-block;line-height: 1.2em;}#sk-container-id-2 div.sk-label-container {text-align: center;}#sk-container-id-2 div.sk-container {/* jupyter's `normalize.less` sets `[hidden] { display: none; }` but bootstrap.min.css set `[hidden] { display: none !important; }` so we also need the `!important` here to be able to override the default hidden behavior on the sphinx rendered scikit-learn.org. See: https://github.com/scikit-learn/scikit-learn/issues/21755 */display: inline-block !important;position: relative;}#sk-container-id-2 div.sk-text-repr-fallback {display: none;}</style><div id=\"sk-container-id-2\" class=\"sk-top-container\"><div class=\"sk-text-repr-fallback\"><pre>Ridge(alpha=0.001)</pre><b>In a Jupyter environment, please rerun this cell to show the HTML representation or trust the notebook. <br />On GitHub, the HTML representation is unable to render, please try loading this page with nbviewer.org.</b></div><div class=\"sk-container\" hidden><div class=\"sk-item\"><div class=\"sk-estimator sk-toggleable\"><input class=\"sk-toggleable__control sk-hidden--visually\" id=\"sk-estimator-id-4\" type=\"checkbox\" checked><label for=\"sk-estimator-id-4\" class=\"sk-toggleable__label sk-toggleable__label-arrow\">Ridge</label><div class=\"sk-toggleable__content\"><pre>Ridge(alpha=0.001)</pre></div></div></div></div></div>"
      ],
      "text/plain": [
       "Ridge(alpha=0.001)"
      ]
     },
     "execution_count": 11,
     "metadata": {},
     "output_type": "execute_result"
    }
   ],
   "source": [
    "# Entrenar el modelo Ridge con los mejores hiperparámetros y características polinómicas\n",
    "ridge_best = Ridge(alpha=best_alpha)\n",
    "ridge_best.fit(X_train_poly, y_train)\n"
   ]
  },
  {
   "cell_type": "code",
   "execution_count": 12,
   "id": "fe0e4ed1-edd8-419a-b473-01f4debb311b",
   "metadata": {
    "tags": []
   },
   "outputs": [],
   "source": [
    "# Realizar predicciones en el conjunto de prueba para evaluar el rendimiento\n",
    "predictions_ridge = ridge_best.predict(X_test_poly)\n",
    "r2_3_2 = r2_score(y_test, predictions_ridge)\n",
    "RMSE_3_2 = mean_squared_error(y_test, predictions_ridge, squared=False)\n",
    "MSE_3_2 = mean_squared_error(y_test, predictions_ridge)\n",
    "MAE_3_2 = mean_absolute_error(y_test, predictions_ridge)"
   ]
  },
  {
   "cell_type": "code",
   "execution_count": 13,
   "id": "50bafc64-dc46-400f-8516-00a5afd69dd0",
   "metadata": {
    "tags": []
   },
   "outputs": [
    {
     "name": "stdout",
     "output_type": "stream",
     "text": [
      "R2 = 0.9719\n",
      "RMSE = 1596.9962\n",
      "MSE = 2550396.8786\n",
      "MAE = 1015.9859\n"
     ]
    }
   ],
   "source": [
    "print(\"R2 =\", round(r2_3_2, 4))\n",
    "print(\"RMSE =\", round(RMSE_3_2, 4))\n",
    "print(\"MSE =\", round(MSE_3_2, 4))\n",
    "print(\"MAE =\", round(MAE_3_2, 4))\n"
   ]
  },
  {
   "cell_type": "code",
   "execution_count": 14,
   "id": "ed0c02dc-3c4c-4ad7-95da-bd991718ab9e",
   "metadata": {
    "tags": []
   },
   "outputs": [],
   "source": [
    "# Función para preprocesar la entrada del usuario\n",
    "def preprocess_user_input(year, condition, odometer, car_age, market_price):\n",
    "    user_input_df = pd.DataFrame({\n",
    "        'year': [year],\n",
    "        'condition': [condition],\n",
    "        'odometer': [odometer],\n",
    "        'market_price': [market_price],\n",
    "        'car age': [car_age]\n",
    "    })\n",
    "\n",
    "    # Reorganizar las columnas en el orden correcto\n",
    "    user_input_df = user_input_df[['year', 'condition', 'odometer', 'market_price', 'car age']]\n",
    "\n",
    "    # Normalizar características\n",
    "    user_input_scaled = scaler.transform(user_input_df)\n",
    "\n",
    "    # Aplicar funciones polinómicas\n",
    "    user_input_poly = poly.transform(user_input_scaled)\n",
    "\n",
    "    return user_input_poly\n",
    "\n"
   ]
  },
  {
   "cell_type": "code",
   "execution_count": 15,
   "id": "43fa88f3-6cd6-4c74-8871-db69857ae83c",
   "metadata": {
    "tags": []
   },
   "outputs": [
    {
     "name": "stdin",
     "output_type": "stream",
     "text": [
      "Ingrese el año del vehículo:  2020\n"
     ]
    },
    {
     "name": "stdout",
     "output_type": "stream",
     "text": [
      "Por favor, indique la condición del vehículo en una escala del 1 al 100:\n",
      " - 100: Sin apenas uso y en perfecto estado.\n",
      " - 80: Con algún rasguño por fuera o por dentro.\n",
      " - 60: Con algún golpe.\n",
      " - 40: Alguna luz no funciona o tiene más de un golpe.\n",
      " - 20: Alguna luz no funciona además tiene más de un golpe y por dentro no esta en buen estado.\n",
      " - 0: En condición muy deficiente.\n"
     ]
    },
    {
     "name": "stdin",
     "output_type": "stream",
     "text": [
      "Ingrese la condición del vehículo:  40\n",
      "Ingrese el odómetro del vehículo (en km):  65000\n",
      "Ingrese los años de uso del vehículo:  2\n",
      "¿Conoce el precio de mercado del vehículo? (si/no):  no\n",
      "¿Conoce el precio de mercado del vehículo ahora? (si/no):  si\n",
      "Ingrese el precio de mercado del vehículo (en dólares):  20000\n"
     ]
    }
   ],
   "source": [
    "import webbrowser\n",
    "\n",
    "while True:\n",
    "    try:\n",
    "        year = int(input(\"Ingrese el año del vehículo: \"))\n",
    "        \n",
    "        # Explicación de la condición del vehículo\n",
    "        print(\"Por favor, indique la condición del vehículo en una escala del 1 al 100:\")\n",
    "        print(\" - 100: Sin apenas uso y en perfecto estado.\")\n",
    "        print(\" - 80: Con algún rasguño por fuera o por dentro.\")\n",
    "        print(\" - 60: Con algún golpe.\")\n",
    "        print(\" - 40: Alguna luz no funciona o tiene más de un golpe.\")\n",
    "        print(\" - 20: Alguna luz no funciona además tiene más de un golpe y por dentro no esta en buen estado.\")\n",
    "        print(\" - 0: En condición muy deficiente.\")\n",
    "        \n",
    "        condition = float(input(\"Ingrese la condición del vehículo: \"))        \n",
    "        odometer = float(input(\"Ingrese el odómetro del vehículo (en km): \"))\n",
    "        car_age = float(input(\"Ingrese los años de uso del vehículo: \"))\n",
    "        \n",
    "        # Preguntar si el usuario conoce el precio de mercado\n",
    "        know_market_price = input(\"¿Conoce el precio de mercado del vehículo? (si/no): \").lower()\n",
    "\n",
    "        if know_market_price == 'si':\n",
    "            market_price = float(input(\"Ingrese el precio de mercado del vehículo (en dólares): \"))\n",
    "        else:\n",
    "            # Abrir una página web de coches de segunda mano si no conoce el precio de mercado\n",
    "            webbrowser.open(\"https://www.ooyyo.com/estados+unidos/coches-usados-anuncios/c=CDA31D7114D38568111BF66FAA651453/\")  \n",
    "            \n",
    "            # Preguntar nuevamente por el precio de mercado\n",
    "            know_market_price = input(\"¿Conoce el precio de mercado del vehículo ahora? (si/no): \").lower()\n",
    "\n",
    "            if know_market_price == 'si':\n",
    "                market_price = float(input(\"Ingrese el precio de mercado del vehículo (en dólares): \"))\n",
    "            else:\n",
    "                break  # Salir del bucle si no desean continuar\n",
    "\n",
    "        break  # Salir del bucle si todas las entradas son válidas\n",
    "\n",
    "    except ValueError:\n",
    "        print(\"Error: Ingrese valores numéricos válidos.\")\n",
    "\n"
   ]
  },
  {
   "cell_type": "code",
   "execution_count": 16,
   "id": "48c875d1-3d3a-4549-8ce2-2454525d7472",
   "metadata": {
    "tags": []
   },
   "outputs": [],
   "source": [
    "condition= condition*0.8\n",
    "market_price=market_price*0.8"
   ]
  },
  {
   "cell_type": "code",
   "execution_count": 17,
   "id": "540edf80-5e75-45cf-b1ff-6fd05bae2a6a",
   "metadata": {
    "tags": []
   },
   "outputs": [
    {
     "data": {
      "text/plain": [
       "16000.0"
      ]
     },
     "execution_count": 17,
     "metadata": {},
     "output_type": "execute_result"
    }
   ],
   "source": [
    "market_price"
   ]
  },
  {
   "cell_type": "code",
   "execution_count": 18,
   "id": "6b9a94d0-168d-41f2-a8af-a994aa548367",
   "metadata": {
    "tags": []
   },
   "outputs": [],
   "source": [
    "# Preprocesar datos de entrada del usuario\n",
    "user_input_poly = preprocess_user_input(year, condition, odometer, car_age, market_price)"
   ]
  },
  {
   "cell_type": "code",
   "execution_count": 19,
   "id": "0ac042e6-b9ab-4b15-a967-f831f1a30393",
   "metadata": {
    "tags": []
   },
   "outputs": [],
   "source": [
    "# Realizar predicción con el modelo entrenado\n",
    "predicted_price = ridge_best.predict(user_input_poly)"
   ]
  },
  {
   "cell_type": "code",
   "execution_count": 20,
   "id": "831dac9b-308b-4c91-96d8-205c3db7934d",
   "metadata": {
    "tags": []
   },
   "outputs": [
    {
     "name": "stdout",
     "output_type": "stream",
     "text": [
      "El precio estimado del vehículo es: 16045.41\n"
     ]
    }
   ],
   "source": [
    "# Imprimir resultados\n",
    "print(f\"El precio estimado del vehículo es: {predicted_price[0]:.2f}\")"
   ]
  },
  {
   "cell_type": "markdown",
   "id": "df7c8fd1-acf6-4213-8a78-932dbf98c90b",
   "metadata": {},
   "source": [
    "## "
   ]
  }
 ],
 "metadata": {
  "kernelspec": {
   "display_name": "Python 3 (ipykernel)",
   "language": "python",
   "name": "python3"
  },
  "language_info": {
   "codemirror_mode": {
    "name": "ipython",
    "version": 3
   },
   "file_extension": ".py",
   "mimetype": "text/x-python",
   "name": "python",
   "nbconvert_exporter": "python",
   "pygments_lexer": "ipython3",
   "version": "3.11.5"
  }
 },
 "nbformat": 4,
 "nbformat_minor": 5
}
